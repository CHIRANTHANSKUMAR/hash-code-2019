{
 "cells": [
  {
   "cell_type": "markdown",
   "metadata": {},
   "source": [
    "Hash Code 2019\n",
    "Python Week Wednesday\n",
    "\n",
    "Group 3:\n",
    "Emmanuel ADENIYI \n",
    "Danielle HASSID\n",
    "Chiranthan SHIVA KUMAR\n",
    "Behan Remoshan BENET RUBAN"
   ]
  },
  {
   "cell_type": "markdown",
   "metadata": {},
   "source": [
    "Read the input files"
   ]
  },
  {
   "cell_type": "code",
   "execution_count": 10,
   "metadata": {},
   "outputs": [
    {
     "name": "stdout",
     "output_type": "stream",
     "text": [
      "4\n",
      "\n",
      "H 3 cat beach sun\n",
      "\n",
      "V 2 selfie smile\n",
      "\n",
      "V 2 garden selfie\n",
      "\n",
      "H 2 garden cat\n",
      "\n"
     ]
    }
   ],
   "source": [
    "files = [\"a_example.txt\", \"b_lovely_landscapes.txt\",\n",
    "         \"c_memorable_moments.txt\", \"d_pet_pictures.txt\",\n",
    "         \"e_shiny_selfies.txt\"]\n",
    "\n",
    "\n",
    "f = open(files[0], \"r\")\n",
    "# if f.mode == 'r':\n",
    "#     contents = f.read()\n",
    "#     print(contents)\n",
    "    \n",
    "f1 = f.readlines()\n",
    "for x in f1:\n",
    "    print(x)\n",
    "\n",
    "# Photo format\n",
    "# { type: \"H/V\", numTags: 21, tags: [\"asdf\", \"sddsf\", \"sdfs\"] }\n",
    "# Slide\n",
    "# { }"
   ]
  },
  {
   "cell_type": "markdown",
   "metadata": {},
   "source": [
    "Create slides from the data"
   ]
  },
  {
   "cell_type": "code",
   "execution_count": null,
   "metadata": {},
   "outputs": [],
   "source": []
  },
  {
   "cell_type": "markdown",
   "metadata": {},
   "source": [
    "Create a slideshow from the slides"
   ]
  },
  {
   "cell_type": "code",
   "execution_count": null,
   "metadata": {},
   "outputs": [],
   "source": []
  },
  {
   "cell_type": "markdown",
   "metadata": {},
   "source": [
    "Scoring Function"
   ]
  },
  {
   "cell_type": "code",
   "execution_count": null,
   "metadata": {},
   "outputs": [],
   "source": []
  },
  {
   "cell_type": "markdown",
   "metadata": {},
   "source": [
    "Optimize the slides and their order to get a better score"
   ]
  },
  {
   "cell_type": "code",
   "execution_count": null,
   "metadata": {},
   "outputs": [],
   "source": []
  },
  {
   "cell_type": "markdown",
   "metadata": {},
   "source": [
    "Save the result"
   ]
  },
  {
   "cell_type": "code",
   "execution_count": null,
   "metadata": {},
   "outputs": [],
   "source": []
  }
 ],
 "metadata": {
  "kernelspec": {
   "display_name": "Python 3",
   "language": "python",
   "name": "python3"
  },
  "language_info": {
   "codemirror_mode": {
    "name": "ipython",
    "version": 3
   },
   "file_extension": ".py",
   "mimetype": "text/x-python",
   "name": "python",
   "nbconvert_exporter": "python",
   "pygments_lexer": "ipython3",
   "version": "3.7.3"
  }
 },
 "nbformat": 4,
 "nbformat_minor": 2
}
